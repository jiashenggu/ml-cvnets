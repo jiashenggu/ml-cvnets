{
 "cells": [
  {
   "cell_type": "code",
   "execution_count": 2,
   "metadata": {},
   "outputs": [],
   "source": [
    "import torch\n",
    "from torch import nn"
   ]
  },
  {
   "cell_type": "code",
   "execution_count": 8,
   "metadata": {},
   "outputs": [
    {
     "data": {
      "text/plain": [
       "odict_keys(['conv_1.block.conv.weight', 'conv_1.block.norm.weight', 'conv_1.block.norm.bias', 'conv_1.block.norm.running_mean', 'conv_1.block.norm.running_var', 'conv_1.block.norm.num_batches_tracked', 'layer_1.0.block.exp_1x1.block.conv.weight', 'layer_1.0.block.exp_1x1.block.norm.weight', 'layer_1.0.block.exp_1x1.block.norm.bias', 'layer_1.0.block.exp_1x1.block.norm.running_mean', 'layer_1.0.block.exp_1x1.block.norm.running_var', 'layer_1.0.block.exp_1x1.block.norm.num_batches_tracked', 'layer_1.0.block.conv_3x3.block.conv.weight', 'layer_1.0.block.conv_3x3.block.norm.weight', 'layer_1.0.block.conv_3x3.block.norm.bias', 'layer_1.0.block.conv_3x3.block.norm.running_mean', 'layer_1.0.block.conv_3x3.block.norm.running_var', 'layer_1.0.block.conv_3x3.block.norm.num_batches_tracked', 'layer_1.0.block.red_1x1.block.conv.weight', 'layer_1.0.block.red_1x1.block.norm.weight', 'layer_1.0.block.red_1x1.block.norm.bias', 'layer_1.0.block.red_1x1.block.norm.running_mean', 'layer_1.0.block.red_1x1.block.norm.running_var', 'layer_1.0.block.red_1x1.block.norm.num_batches_tracked', 'layer_2.0.block.exp_1x1.block.conv.weight', 'layer_2.0.block.exp_1x1.block.norm.weight', 'layer_2.0.block.exp_1x1.block.norm.bias', 'layer_2.0.block.exp_1x1.block.norm.running_mean', 'layer_2.0.block.exp_1x1.block.norm.running_var', 'layer_2.0.block.exp_1x1.block.norm.num_batches_tracked', 'layer_2.0.block.conv_3x3.block.conv.weight', 'layer_2.0.block.conv_3x3.block.norm.weight', 'layer_2.0.block.conv_3x3.block.norm.bias', 'layer_2.0.block.conv_3x3.block.norm.running_mean', 'layer_2.0.block.conv_3x3.block.norm.running_var', 'layer_2.0.block.conv_3x3.block.norm.num_batches_tracked', 'layer_2.0.block.red_1x1.block.conv.weight', 'layer_2.0.block.red_1x1.block.norm.weight', 'layer_2.0.block.red_1x1.block.norm.bias', 'layer_2.0.block.red_1x1.block.norm.running_mean', 'layer_2.0.block.red_1x1.block.norm.running_var', 'layer_2.0.block.red_1x1.block.norm.num_batches_tracked', 'layer_2.1.block.exp_1x1.block.conv.weight', 'layer_2.1.block.exp_1x1.block.norm.weight', 'layer_2.1.block.exp_1x1.block.norm.bias', 'layer_2.1.block.exp_1x1.block.norm.running_mean', 'layer_2.1.block.exp_1x1.block.norm.running_var', 'layer_2.1.block.exp_1x1.block.norm.num_batches_tracked', 'layer_2.1.block.conv_3x3.block.conv.weight', 'layer_2.1.block.conv_3x3.block.norm.weight', 'layer_2.1.block.conv_3x3.block.norm.bias', 'layer_2.1.block.conv_3x3.block.norm.running_mean', 'layer_2.1.block.conv_3x3.block.norm.running_var', 'layer_2.1.block.conv_3x3.block.norm.num_batches_tracked', 'layer_2.1.block.red_1x1.block.conv.weight', 'layer_2.1.block.red_1x1.block.norm.weight', 'layer_2.1.block.red_1x1.block.norm.bias', 'layer_2.1.block.red_1x1.block.norm.running_mean', 'layer_2.1.block.red_1x1.block.norm.running_var', 'layer_2.1.block.red_1x1.block.norm.num_batches_tracked', 'layer_3.0.block.exp_1x1.block.conv.weight', 'layer_3.0.block.exp_1x1.block.norm.weight', 'layer_3.0.block.exp_1x1.block.norm.bias', 'layer_3.0.block.exp_1x1.block.norm.running_mean', 'layer_3.0.block.exp_1x1.block.norm.running_var', 'layer_3.0.block.exp_1x1.block.norm.num_batches_tracked', 'layer_3.0.block.conv_3x3.block.conv.weight', 'layer_3.0.block.conv_3x3.block.norm.weight', 'layer_3.0.block.conv_3x3.block.norm.bias', 'layer_3.0.block.conv_3x3.block.norm.running_mean', 'layer_3.0.block.conv_3x3.block.norm.running_var', 'layer_3.0.block.conv_3x3.block.norm.num_batches_tracked', 'layer_3.0.block.red_1x1.block.conv.weight', 'layer_3.0.block.red_1x1.block.norm.weight', 'layer_3.0.block.red_1x1.block.norm.bias', 'layer_3.0.block.red_1x1.block.norm.running_mean', 'layer_3.0.block.red_1x1.block.norm.running_var', 'layer_3.0.block.red_1x1.block.norm.num_batches_tracked', 'layer_3.1.local_rep.0.block.conv.weight', 'layer_3.1.local_rep.0.block.norm.weight', 'layer_3.1.local_rep.0.block.norm.bias', 'layer_3.1.local_rep.0.block.norm.running_mean', 'layer_3.1.local_rep.0.block.norm.running_var', 'layer_3.1.local_rep.0.block.norm.num_batches_tracked', 'layer_3.1.local_rep.1.block.conv.weight', 'layer_3.1.global_rep.0.pre_norm_attn.0.weight', 'layer_3.1.global_rep.0.pre_norm_attn.0.bias', 'layer_3.1.global_rep.0.pre_norm_attn.1.qkv_proj.block.conv.weight', 'layer_3.1.global_rep.0.pre_norm_attn.1.qkv_proj.block.conv.bias', 'layer_3.1.global_rep.0.pre_norm_attn.1.out_proj.block.conv.weight', 'layer_3.1.global_rep.0.pre_norm_attn.1.out_proj.block.conv.bias', 'layer_3.1.global_rep.0.pre_norm_ffn.0.weight', 'layer_3.1.global_rep.0.pre_norm_ffn.0.bias', 'layer_3.1.global_rep.0.pre_norm_ffn.1.block.conv.weight', 'layer_3.1.global_rep.0.pre_norm_ffn.1.block.conv.bias', 'layer_3.1.global_rep.0.pre_norm_ffn.3.block.conv.weight', 'layer_3.1.global_rep.0.pre_norm_ffn.3.block.conv.bias', 'layer_3.1.global_rep.1.pre_norm_attn.0.weight', 'layer_3.1.global_rep.1.pre_norm_attn.0.bias', 'layer_3.1.global_rep.1.pre_norm_attn.1.qkv_proj.block.conv.weight', 'layer_3.1.global_rep.1.pre_norm_attn.1.qkv_proj.block.conv.bias', 'layer_3.1.global_rep.1.pre_norm_attn.1.out_proj.block.conv.weight', 'layer_3.1.global_rep.1.pre_norm_attn.1.out_proj.block.conv.bias', 'layer_3.1.global_rep.1.pre_norm_ffn.0.weight', 'layer_3.1.global_rep.1.pre_norm_ffn.0.bias', 'layer_3.1.global_rep.1.pre_norm_ffn.1.block.conv.weight', 'layer_3.1.global_rep.1.pre_norm_ffn.1.block.conv.bias', 'layer_3.1.global_rep.1.pre_norm_ffn.3.block.conv.weight', 'layer_3.1.global_rep.1.pre_norm_ffn.3.block.conv.bias', 'layer_3.1.global_rep.2.weight', 'layer_3.1.global_rep.2.bias', 'layer_3.1.conv_proj.block.conv.weight', 'layer_3.1.conv_proj.block.norm.weight', 'layer_3.1.conv_proj.block.norm.bias', 'layer_3.1.conv_proj.block.norm.running_mean', 'layer_3.1.conv_proj.block.norm.running_var', 'layer_3.1.conv_proj.block.norm.num_batches_tracked', 'layer_4.0.block.exp_1x1.block.conv.weight', 'layer_4.0.block.exp_1x1.block.norm.weight', 'layer_4.0.block.exp_1x1.block.norm.bias', 'layer_4.0.block.exp_1x1.block.norm.running_mean', 'layer_4.0.block.exp_1x1.block.norm.running_var', 'layer_4.0.block.exp_1x1.block.norm.num_batches_tracked', 'layer_4.0.block.conv_3x3.block.conv.weight', 'layer_4.0.block.conv_3x3.block.norm.weight', 'layer_4.0.block.conv_3x3.block.norm.bias', 'layer_4.0.block.conv_3x3.block.norm.running_mean', 'layer_4.0.block.conv_3x3.block.norm.running_var', 'layer_4.0.block.conv_3x3.block.norm.num_batches_tracked', 'layer_4.0.block.red_1x1.block.conv.weight', 'layer_4.0.block.red_1x1.block.norm.weight', 'layer_4.0.block.red_1x1.block.norm.bias', 'layer_4.0.block.red_1x1.block.norm.running_mean', 'layer_4.0.block.red_1x1.block.norm.running_var', 'layer_4.0.block.red_1x1.block.norm.num_batches_tracked', 'layer_4.1.local_rep.0.block.conv.weight', 'layer_4.1.local_rep.0.block.norm.weight', 'layer_4.1.local_rep.0.block.norm.bias', 'layer_4.1.local_rep.0.block.norm.running_mean', 'layer_4.1.local_rep.0.block.norm.running_var', 'layer_4.1.local_rep.0.block.norm.num_batches_tracked', 'layer_4.1.local_rep.1.block.conv.weight', 'layer_4.1.global_rep.0.pre_norm_attn.0.weight', 'layer_4.1.global_rep.0.pre_norm_attn.0.bias', 'layer_4.1.global_rep.0.pre_norm_attn.1.qkv_proj.block.conv.weight', 'layer_4.1.global_rep.0.pre_norm_attn.1.qkv_proj.block.conv.bias', 'layer_4.1.global_rep.0.pre_norm_attn.1.out_proj.block.conv.weight', 'layer_4.1.global_rep.0.pre_norm_attn.1.out_proj.block.conv.bias', 'layer_4.1.global_rep.0.pre_norm_ffn.0.weight', 'layer_4.1.global_rep.0.pre_norm_ffn.0.bias', 'layer_4.1.global_rep.0.pre_norm_ffn.1.block.conv.weight', 'layer_4.1.global_rep.0.pre_norm_ffn.1.block.conv.bias', 'layer_4.1.global_rep.0.pre_norm_ffn.3.block.conv.weight', 'layer_4.1.global_rep.0.pre_norm_ffn.3.block.conv.bias', 'layer_4.1.global_rep.1.pre_norm_attn.0.weight', 'layer_4.1.global_rep.1.pre_norm_attn.0.bias', 'layer_4.1.global_rep.1.pre_norm_attn.1.qkv_proj.block.conv.weight', 'layer_4.1.global_rep.1.pre_norm_attn.1.qkv_proj.block.conv.bias', 'layer_4.1.global_rep.1.pre_norm_attn.1.out_proj.block.conv.weight', 'layer_4.1.global_rep.1.pre_norm_attn.1.out_proj.block.conv.bias', 'layer_4.1.global_rep.1.pre_norm_ffn.0.weight', 'layer_4.1.global_rep.1.pre_norm_ffn.0.bias', 'layer_4.1.global_rep.1.pre_norm_ffn.1.block.conv.weight', 'layer_4.1.global_rep.1.pre_norm_ffn.1.block.conv.bias', 'layer_4.1.global_rep.1.pre_norm_ffn.3.block.conv.weight', 'layer_4.1.global_rep.1.pre_norm_ffn.3.block.conv.bias', 'layer_4.1.global_rep.2.pre_norm_attn.0.weight', 'layer_4.1.global_rep.2.pre_norm_attn.0.bias', 'layer_4.1.global_rep.2.pre_norm_attn.1.qkv_proj.block.conv.weight', 'layer_4.1.global_rep.2.pre_norm_attn.1.qkv_proj.block.conv.bias', 'layer_4.1.global_rep.2.pre_norm_attn.1.out_proj.block.conv.weight', 'layer_4.1.global_rep.2.pre_norm_attn.1.out_proj.block.conv.bias', 'layer_4.1.global_rep.2.pre_norm_ffn.0.weight', 'layer_4.1.global_rep.2.pre_norm_ffn.0.bias', 'layer_4.1.global_rep.2.pre_norm_ffn.1.block.conv.weight', 'layer_4.1.global_rep.2.pre_norm_ffn.1.block.conv.bias', 'layer_4.1.global_rep.2.pre_norm_ffn.3.block.conv.weight', 'layer_4.1.global_rep.2.pre_norm_ffn.3.block.conv.bias', 'layer_4.1.global_rep.3.pre_norm_attn.0.weight', 'layer_4.1.global_rep.3.pre_norm_attn.0.bias', 'layer_4.1.global_rep.3.pre_norm_attn.1.qkv_proj.block.conv.weight', 'layer_4.1.global_rep.3.pre_norm_attn.1.qkv_proj.block.conv.bias', 'layer_4.1.global_rep.3.pre_norm_attn.1.out_proj.block.conv.weight', 'layer_4.1.global_rep.3.pre_norm_attn.1.out_proj.block.conv.bias', 'layer_4.1.global_rep.3.pre_norm_ffn.0.weight', 'layer_4.1.global_rep.3.pre_norm_ffn.0.bias', 'layer_4.1.global_rep.3.pre_norm_ffn.1.block.conv.weight', 'layer_4.1.global_rep.3.pre_norm_ffn.1.block.conv.bias', 'layer_4.1.global_rep.3.pre_norm_ffn.3.block.conv.weight', 'layer_4.1.global_rep.3.pre_norm_ffn.3.block.conv.bias', 'layer_4.1.global_rep.4.weight', 'layer_4.1.global_rep.4.bias', 'layer_4.1.conv_proj.block.conv.weight', 'layer_4.1.conv_proj.block.norm.weight', 'layer_4.1.conv_proj.block.norm.bias', 'layer_4.1.conv_proj.block.norm.running_mean', 'layer_4.1.conv_proj.block.norm.running_var', 'layer_4.1.conv_proj.block.norm.num_batches_tracked', 'layer_5.0.block.exp_1x1.block.conv.weight', 'layer_5.0.block.exp_1x1.block.norm.weight', 'layer_5.0.block.exp_1x1.block.norm.bias', 'layer_5.0.block.exp_1x1.block.norm.running_mean', 'layer_5.0.block.exp_1x1.block.norm.running_var', 'layer_5.0.block.exp_1x1.block.norm.num_batches_tracked', 'layer_5.0.block.conv_3x3.block.conv.weight', 'layer_5.0.block.conv_3x3.block.norm.weight', 'layer_5.0.block.conv_3x3.block.norm.bias', 'layer_5.0.block.conv_3x3.block.norm.running_mean', 'layer_5.0.block.conv_3x3.block.norm.running_var', 'layer_5.0.block.conv_3x3.block.norm.num_batches_tracked', 'layer_5.0.block.red_1x1.block.conv.weight', 'layer_5.0.block.red_1x1.block.norm.weight', 'layer_5.0.block.red_1x1.block.norm.bias', 'layer_5.0.block.red_1x1.block.norm.running_mean', 'layer_5.0.block.red_1x1.block.norm.running_var', 'layer_5.0.block.red_1x1.block.norm.num_batches_tracked', 'layer_5.1.local_rep.0.block.conv.weight', 'layer_5.1.local_rep.0.block.norm.weight', 'layer_5.1.local_rep.0.block.norm.bias', 'layer_5.1.local_rep.0.block.norm.running_mean', 'layer_5.1.local_rep.0.block.norm.running_var', 'layer_5.1.local_rep.0.block.norm.num_batches_tracked', 'layer_5.1.local_rep.1.block.conv.weight', 'layer_5.1.global_rep.0.pre_norm_attn.0.weight', 'layer_5.1.global_rep.0.pre_norm_attn.0.bias', 'layer_5.1.global_rep.0.pre_norm_attn.1.qkv_proj.block.conv.weight', 'layer_5.1.global_rep.0.pre_norm_attn.1.qkv_proj.block.conv.bias', 'layer_5.1.global_rep.0.pre_norm_attn.1.out_proj.block.conv.weight', 'layer_5.1.global_rep.0.pre_norm_attn.1.out_proj.block.conv.bias', 'layer_5.1.global_rep.0.pre_norm_ffn.0.weight', 'layer_5.1.global_rep.0.pre_norm_ffn.0.bias', 'layer_5.1.global_rep.0.pre_norm_ffn.1.block.conv.weight', 'layer_5.1.global_rep.0.pre_norm_ffn.1.block.conv.bias', 'layer_5.1.global_rep.0.pre_norm_ffn.3.block.conv.weight', 'layer_5.1.global_rep.0.pre_norm_ffn.3.block.conv.bias', 'layer_5.1.global_rep.1.pre_norm_attn.0.weight', 'layer_5.1.global_rep.1.pre_norm_attn.0.bias', 'layer_5.1.global_rep.1.pre_norm_attn.1.qkv_proj.block.conv.weight', 'layer_5.1.global_rep.1.pre_norm_attn.1.qkv_proj.block.conv.bias', 'layer_5.1.global_rep.1.pre_norm_attn.1.out_proj.block.conv.weight', 'layer_5.1.global_rep.1.pre_norm_attn.1.out_proj.block.conv.bias', 'layer_5.1.global_rep.1.pre_norm_ffn.0.weight', 'layer_5.1.global_rep.1.pre_norm_ffn.0.bias', 'layer_5.1.global_rep.1.pre_norm_ffn.1.block.conv.weight', 'layer_5.1.global_rep.1.pre_norm_ffn.1.block.conv.bias', 'layer_5.1.global_rep.1.pre_norm_ffn.3.block.conv.weight', 'layer_5.1.global_rep.1.pre_norm_ffn.3.block.conv.bias', 'layer_5.1.global_rep.2.pre_norm_attn.0.weight', 'layer_5.1.global_rep.2.pre_norm_attn.0.bias', 'layer_5.1.global_rep.2.pre_norm_attn.1.qkv_proj.block.conv.weight', 'layer_5.1.global_rep.2.pre_norm_attn.1.qkv_proj.block.conv.bias', 'layer_5.1.global_rep.2.pre_norm_attn.1.out_proj.block.conv.weight', 'layer_5.1.global_rep.2.pre_norm_attn.1.out_proj.block.conv.bias', 'layer_5.1.global_rep.2.pre_norm_ffn.0.weight', 'layer_5.1.global_rep.2.pre_norm_ffn.0.bias', 'layer_5.1.global_rep.2.pre_norm_ffn.1.block.conv.weight', 'layer_5.1.global_rep.2.pre_norm_ffn.1.block.conv.bias', 'layer_5.1.global_rep.2.pre_norm_ffn.3.block.conv.weight', 'layer_5.1.global_rep.2.pre_norm_ffn.3.block.conv.bias', 'layer_5.1.global_rep.3.weight', 'layer_5.1.global_rep.3.bias', 'layer_5.1.conv_proj.block.conv.weight', 'layer_5.1.conv_proj.block.norm.weight', 'layer_5.1.conv_proj.block.norm.bias', 'layer_5.1.conv_proj.block.norm.running_mean', 'layer_5.1.conv_proj.block.norm.running_var', 'layer_5.1.conv_proj.block.norm.num_batches_tracked', 'classifier.1.weight', 'classifier.1.bias'])"
      ]
     },
     "execution_count": 8,
     "metadata": {},
     "output_type": "execute_result"
    }
   ],
   "source": [
    "w = torch.load(\"models/mobilevitv2-0.5.pt\")\n",
    "w.keys()"
   ]
  },
  {
   "cell_type": "code",
   "execution_count": 7,
   "metadata": {},
   "outputs": [
    {
     "ename": "ZeroDivisionError",
     "evalue": "integer division or modulo by zero",
     "output_type": "error",
     "traceback": [
      "\u001b[0;31m---------------------------------------------------------------------------\u001b[0m",
      "\u001b[0;31mZeroDivisionError\u001b[0m                         Traceback (most recent call last)",
      "\u001b[1;32m/home/gujiashe/ml-cvnets/try.ipynb Cell 3\u001b[0m in \u001b[0;36m<cell line: 1>\u001b[0;34m()\u001b[0m\n\u001b[0;32m----> <a href='vscode-notebook-cell://ssh-remote%2Bhal1/home/gujiashe/ml-cvnets/try.ipynb#W2sdnNjb2RlLXJlbW90ZQ%3D%3D?line=0'>1</a>\u001b[0m nn\u001b[39m.\u001b[39;49mConv2d(\u001b[39m3\u001b[39;49m, \u001b[39m3\u001b[39;49m, \u001b[39m1\u001b[39;49m, \u001b[39m1\u001b[39;49m, \u001b[39m0\u001b[39;49m, \u001b[39m1\u001b[39;49m, \u001b[39m0\u001b[39;49m)\n",
      "File \u001b[0;32m~/.miniconda/envs/cvnets/lib/python3.10/site-packages/torch/nn/modules/conv.py:444\u001b[0m, in \u001b[0;36mConv2d.__init__\u001b[0;34m(self, in_channels, out_channels, kernel_size, stride, padding, dilation, groups, bias, padding_mode, device, dtype)\u001b[0m\n\u001b[1;32m    442\u001b[0m padding_ \u001b[39m=\u001b[39m padding \u001b[39mif\u001b[39;00m \u001b[39misinstance\u001b[39m(padding, \u001b[39mstr\u001b[39m) \u001b[39melse\u001b[39;00m _pair(padding)\n\u001b[1;32m    443\u001b[0m dilation_ \u001b[39m=\u001b[39m _pair(dilation)\n\u001b[0;32m--> 444\u001b[0m \u001b[39msuper\u001b[39;49m(Conv2d, \u001b[39mself\u001b[39;49m)\u001b[39m.\u001b[39;49m\u001b[39m__init__\u001b[39;49m(\n\u001b[1;32m    445\u001b[0m     in_channels, out_channels, kernel_size_, stride_, padding_, dilation_,\n\u001b[1;32m    446\u001b[0m     \u001b[39mFalse\u001b[39;49;00m, _pair(\u001b[39m0\u001b[39;49m), groups, bias, padding_mode, \u001b[39m*\u001b[39;49m\u001b[39m*\u001b[39;49mfactory_kwargs)\n",
      "File \u001b[0;32m~/.miniconda/envs/cvnets/lib/python3.10/site-packages/torch/nn/modules/conv.py:83\u001b[0m, in \u001b[0;36m_ConvNd.__init__\u001b[0;34m(self, in_channels, out_channels, kernel_size, stride, padding, dilation, transposed, output_padding, groups, bias, padding_mode, device, dtype)\u001b[0m\n\u001b[1;32m     81\u001b[0m factory_kwargs \u001b[39m=\u001b[39m {\u001b[39m'\u001b[39m\u001b[39mdevice\u001b[39m\u001b[39m'\u001b[39m: device, \u001b[39m'\u001b[39m\u001b[39mdtype\u001b[39m\u001b[39m'\u001b[39m: dtype}\n\u001b[1;32m     82\u001b[0m \u001b[39msuper\u001b[39m(_ConvNd, \u001b[39mself\u001b[39m)\u001b[39m.\u001b[39m\u001b[39m__init__\u001b[39m()\n\u001b[0;32m---> 83\u001b[0m \u001b[39mif\u001b[39;00m in_channels \u001b[39m%\u001b[39;49m groups \u001b[39m!=\u001b[39m \u001b[39m0\u001b[39m:\n\u001b[1;32m     84\u001b[0m     \u001b[39mraise\u001b[39;00m \u001b[39mValueError\u001b[39;00m(\u001b[39m'\u001b[39m\u001b[39min_channels must be divisible by groups\u001b[39m\u001b[39m'\u001b[39m)\n\u001b[1;32m     85\u001b[0m \u001b[39mif\u001b[39;00m out_channels \u001b[39m%\u001b[39m groups \u001b[39m!=\u001b[39m \u001b[39m0\u001b[39m:\n",
      "\u001b[0;31mZeroDivisionError\u001b[0m: integer division or modulo by zero"
     ]
    }
   ],
   "source": [
    "nn.Conv2d(3, 3, 1, 1, 0, 1, 0)"
   ]
  },
  {
   "cell_type": "code",
   "execution_count": 9,
   "metadata": {},
   "outputs": [],
   "source": [
    "def _make_divisible(v, divisor, min_value=None):\n",
    "    \"\"\"\n",
    "    This function is taken from the original tf repo.\n",
    "    It ensures that all layers have a channel number that is divisible by 8\n",
    "    It can be seen here:\n",
    "    https://github.com/tensorflow/models/blob/master/research/slim/nets/mobilenet/mobilenet.py\n",
    "    :param v:\n",
    "    :param divisor:\n",
    "    :param min_value:\n",
    "    :return:\n",
    "    \"\"\"\n",
    "    if min_value is None:\n",
    "        min_value = divisor\n",
    "    new_v = max(min_value, int(v + divisor / 2) // divisor * divisor)\n",
    "    # Make sure that round down does not go down by more than 10%.\n",
    "    if new_v < 0.9 * v:\n",
    "        new_v += divisor\n",
    "    return new_v\n",
    "    "
   ]
  },
  {
   "cell_type": "code",
   "execution_count": 10,
   "metadata": {},
   "outputs": [
    {
     "data": {
      "text/plain": [
       "132"
      ]
     },
     "execution_count": 10,
     "metadata": {},
     "output_type": "execute_result"
    }
   ],
   "source": [
    "_make_divisible(128, 11)"
   ]
  }
 ],
 "metadata": {
  "kernelspec": {
   "display_name": "Python 3.10.4 ('cvnets')",
   "language": "python",
   "name": "python3"
  },
  "language_info": {
   "codemirror_mode": {
    "name": "ipython",
    "version": 3
   },
   "file_extension": ".py",
   "mimetype": "text/x-python",
   "name": "python",
   "nbconvert_exporter": "python",
   "pygments_lexer": "ipython3",
   "version": "3.10.4"
  },
  "orig_nbformat": 4,
  "vscode": {
   "interpreter": {
    "hash": "4bc701c66575b18e15d477cec218d2f589ecc0dff3e1d3d94e906b1c72e40eef"
   }
  }
 },
 "nbformat": 4,
 "nbformat_minor": 2
}
